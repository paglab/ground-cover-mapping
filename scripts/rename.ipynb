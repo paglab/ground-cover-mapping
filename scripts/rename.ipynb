{
 "cells": [
  {
   "cell_type": "code",
   "execution_count": 8,
   "metadata": {},
   "outputs": [
    {
     "name": "stdout",
     "output_type": "stream",
     "text": [
      "Renamed: .DS_Store -> Woodchip1\n",
      "Renamed: download.jpg -> Woodchip2.jpg\n",
      "Renamed: image_10.jpg -> Woodchip3.jpg\n",
      "Renamed: images-7.jpg -> Woodchip4.jpg\n",
      "Renamed: images-6.jpg -> Woodchip5.jpg\n",
      "Renamed: image_8.jpg -> Woodchip6.jpg\n",
      "Renamed: images-4.jpg -> Woodchip7.jpg\n",
      "Renamed: images-5.jpg -> Woodchip8.jpg\n",
      "Renamed: image_9.jpg -> Woodchip9.jpg\n",
      "Renamed: images-1.jpg -> Woodchip10.jpg\n",
      "Renamed: images-2.jpg -> Woodchip11.jpg\n",
      "Renamed: images-3.jpg -> Woodchip12.jpg\n",
      "Renamed: image_2.jpg -> Woodchip13.jpg\n",
      "Renamed: image_3.jpg -> Woodchip14.jpg\n",
      "Renamed: image_1.jpg -> Woodchip15.jpg\n",
      "Renamed: image_4.jpg -> Woodchip16.jpg\n",
      "Renamed: image_5.jpg -> Woodchip17.jpg\n",
      "Renamed: download-3.jpg -> Woodchip18.jpg\n",
      "Renamed: download-2.jpg -> Woodchip19.jpg\n",
      "Renamed: download-1.jpg -> Woodchip20.jpg\n",
      "Renamed: images.jpg -> Woodchip21.jpg\n"
     ]
    }
   ],
   "source": [
    "import os\n",
    "\n",
    "def rename_files_in_folder(folder_path, prefix):\n",
    "    # 获取文件夹中的所有文件名\n",
    "    files = os.listdir(folder_path)\n",
    "    \n",
    "    # 过滤掉文件夹，只保留文件\n",
    "    files = [f for f in files if os.path.isfile(os.path.join(folder_path, f))]\n",
    "    \n",
    "    # 按照数字顺序重命名\n",
    "    for i, filename in enumerate(files):\n",
    "        # 获取文件扩展名\n",
    "        file_extension = os.path.splitext(filename)[1]\n",
    "        \n",
    "        # 生成新的文件名\n",
    "        new_name = f\"{prefix}{i+1}{file_extension}\"\n",
    "        \n",
    "        # 获取文件的完整路径\n",
    "        old_file = os.path.join(folder_path, filename)\n",
    "        new_file = os.path.join(folder_path, new_name)\n",
    "        \n",
    "        # 重命名文件\n",
    "        os.rename(old_file, new_file)\n",
    "        \n",
    "        print(f\"Renamed: {filename} -> {new_name}\")\n",
    "\n",
    "# 使用示例\n",
    "folder_path = \"Woodchip in garden\"  # 替换为你的文件夹路径\n",
    "prefix = \"Woodchip\"  # 替换为你的前缀\n",
    "rename_files_in_folder(folder_path, prefix)"
   ]
  }
 ],
 "metadata": {
  "kernelspec": {
   "display_name": "workshop",
   "language": "python",
   "name": "python3"
  },
  "language_info": {
   "codemirror_mode": {
    "name": "ipython",
    "version": 3
   },
   "file_extension": ".py",
   "mimetype": "text/x-python",
   "name": "python",
   "nbconvert_exporter": "python",
   "pygments_lexer": "ipython3",
   "version": "3.8.19"
  }
 },
 "nbformat": 4,
 "nbformat_minor": 2
}
