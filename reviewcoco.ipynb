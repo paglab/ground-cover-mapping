import os
import matplotlib.pyplot as plt
import matplotlib.patches as patches
from pycocotools.coco import COCO
from PIL import Image

def display_coco_annotations(image_dir, annotation_file, image_id=None):
    # 加载COCO数据集
    coco = COCO(annotation_file)

    if image_id is None:
        # 如果没有指定image_id，就随机选择一个图像
        image_id = coco.getImgIds()[0]
    
    # 获取图像的信息
    image_info = coco.loadImgs(image_id)[0]
    image_path = os.path.join(image_dir, image_info['file_name'])
    
    # 打开图像
    image = Image.open(image_path)
    plt.figure(figsize=(10, 8))
    plt.imshow(image)
    
    # 获取对应的标注
    annotation_ids = coco.getAnnIds(imgIds=image_info['id'])
    annotations = coco.loadAnns(annotation_ids)
    
    ax = plt.gca()
    
    # 绘制每个标注
    for annotation in annotations:
        # 获取边界框信息
        bbox = annotation['bbox']
        category_id = annotation['category_id']
        category_name = coco.loadCats(category_id)[0]["name"]

        # 绘制边界框
        rect = patches.Rectangle(
            (bbox[0], bbox[1]), bbox[2], bbox[3],
            linewidth=2, edgecolor='r', facecolor='none'
        )
        ax.add_patch(rect)
        plt.text(bbox[0], bbox[1], category_name, color='white', fontsize=12, backgroundcolor='red')
        
        # 绘制分割轮廓（如果存在）
        if 'segmentation' in annotation:
            segmentation = annotation['segmentation']
            for seg in segmentation:
                poly = np.array(seg).reshape((int(len(seg)/2), 2))
                polygon = patches.Polygon(poly, linewidth=2, edgecolor='blue', facecolor='none')
                ax.add_patch(polygon)
    
    plt.axis('off')
    plt.show()

# 示例使用
image_dir = "/Users/lu/awesome-semantic-segmentation-pytorch/scripts/coco"          # 设置图像文件夹路径
annotation_file = "/Users/lu/awesome-semantic-segmentation-pytorch/scripts/coco/annotations.json"  # 设置COCO格式的标注文件路径
display_coco_annotations(image_dir, annotation_file)